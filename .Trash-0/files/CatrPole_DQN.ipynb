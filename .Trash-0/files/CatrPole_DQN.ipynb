{
 "cells": [
  {
   "cell_type": "code",
   "execution_count": 5,
   "id": "9c727818-0bfb-44db-a409-9c0ab62a8239",
   "metadata": {},
   "outputs": [
    {
     "ename": "ValueError",
     "evalue": "too many values to unpack (expected 4)",
     "output_type": "error",
     "traceback": [
      "\u001b[0;31m---------------------------------------------------------------------------\u001b[0m",
      "\u001b[0;31mValueError\u001b[0m                                Traceback (most recent call last)",
      "Cell \u001b[0;32mIn[5], line 10\u001b[0m\n\u001b[1;32m      8\u001b[0m env\u001b[38;5;241m.\u001b[39mrender()\n\u001b[1;32m      9\u001b[0m \u001b[38;5;66;03m# サンプルの行動をさせる　返り値は左から台車および棒の状態、得られた報酬、ゲーム終了フラグ、詳細情報\u001b[39;00m\n\u001b[0;32m---> 10\u001b[0m observation, reward, done, info \u001b[38;5;241m=\u001b[39m env\u001b[38;5;241m.\u001b[39mstep(env\u001b[38;5;241m.\u001b[39maction_space\u001b[38;5;241m.\u001b[39msample())\n\u001b[1;32m     11\u001b[0m \u001b[38;5;28;01mif\u001b[39;00m done:\n\u001b[1;32m     12\u001b[0m     \u001b[38;5;28mprint\u001b[39m(\u001b[38;5;124m\"\u001b[39m\u001b[38;5;124mFinished after \u001b[39m\u001b[38;5;132;01m{}\u001b[39;00m\u001b[38;5;124m timesteps\u001b[39m\u001b[38;5;124m\"\u001b[39m\u001b[38;5;241m.\u001b[39mformat(t\u001b[38;5;241m+\u001b[39m\u001b[38;5;241m1\u001b[39m))\n",
      "\u001b[0;31mValueError\u001b[0m: too many values to unpack (expected 4)"
     ]
    }
   ],
   "source": [
    "import gym\n",
    "# 環境の生成 \n",
    "env = gym.make('CartPole-v0')\n",
    "# 環境の初期か\n",
    "observation = env.reset()\n",
    "for t in range(1000):\n",
    "    # 現在の状況を表示させる\n",
    "    env.render()\n",
    "    # サンプルの行動をさせる　返り値は左から台車および棒の状態、得られた報酬、ゲーム終了フラグ、詳細情報\n",
    "    observation, reward, done, info = env.step(env.action_space.sample())\n",
    "    if done:\n",
    "        print(\"Finished after {} timesteps\".format(t+1))\n",
    "        break\n",
    "# 環境を閉じる\n",
    "env.close()"
   ]
  }
 ],
 "metadata": {
  "kernelspec": {
   "display_name": "Python 3 (ipykernel)",
   "language": "python",
   "name": "python3"
  },
  "language_info": {
   "codemirror_mode": {
    "name": "ipython",
    "version": 3
   },
   "file_extension": ".py",
   "mimetype": "text/x-python",
   "name": "python",
   "nbconvert_exporter": "python",
   "pygments_lexer": "ipython3",
   "version": "3.12.2"
  }
 },
 "nbformat": 4,
 "nbformat_minor": 5
}
