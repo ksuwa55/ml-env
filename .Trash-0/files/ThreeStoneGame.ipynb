{
 "cells": [
  {
   "cell_type": "code",
   "execution_count": 1,
   "id": "cb332ea5-2be1-4933-8cb1-6629277fb8dc",
   "metadata": {},
   "outputs": [],
   "source": [
    "import time\n",
    "import functools\n",
    "import numpy as np\n",
    "import pandas as pd\n",
    "import torch\n",
    "import torch.nn as nn\n",
    "import torch.nn.functional as F\n",
    "\n",
    "DEVICE = 'cpu'"
   ]
  },
  {
   "cell_type": "code",
   "execution_count": 2,
   "id": "55566583-aad7-4451-8952-ea64f690dc79",
   "metadata": {},
   "outputs": [],
   "source": [
    "def plot(board, hanle=None, sleep_secs=0.8):\n",
    "    \"\"\" display board \"\"\"\n",
    "    board = board.detach().cpu()\n",
    "    s_board = np.zeros(board.shape, dtype='U')\n",
    "    s_booard[board == +1] = '○'\n",
    "    s_booard[board == -1] = '×'\n",
    "    df = pd.DataFrame(s_board.squeeze())\n",
    "    if handle is None:\n",
    "        handle = display(df, display_id=True)\n",
    "    else:\n",
    "        handle.update(df)\n",
    "    time.sleep(sleep_secs)\n",
    "    return handle"
   ]
  },
  {
   "cell_type": "code",
   "execution_count": 3,
   "id": "6541cda9-ed7c-4fab-ada2-f0d24795aa90",
   "metadata": {},
   "outputs": [],
   "source": [
    "FILTERS = torch.tensor([\n",
    "    # horizon\n",
    "    [[[0,0,0],\n",
    "      [1,1,1],\n",
    "      [0,0,0]]],\n",
    "    # vertical\n",
    "    [[[0,1,0],\n",
    "      [0,1,0],\n",
    "      [0,1,0]]],\n",
    "    # to topleft\n",
    "    [[[1,0,0],\n",
    "      [0,1,0],\n",
    "      [0,0,1]]],\n",
    "    # to topright\n",
    "    [[[0,0,1],\n",
    "      [0,1,0],\n",
    "      [1,0,0]]],\n",
    "], dtype=torch.float32, device=DEVICE)"
   ]
  },
  {
   "cell_type": "code",
   "execution_count": 4,
   "id": "7f90f183-f373-4d3f-9f37-44b48e0efa69",
   "metadata": {},
   "outputs": [],
   "source": [
    "def next_move(board, player, nv, out=None):\n",
    "    assert board.numel() == 9\n",
    "    assert player in (-1, +1)\n",
    "    assert nv in range(board.numel())\n",
    "    if board.flatten()[nv] != 0:\n",
    "        return -player\n",
    "    out = board.detach().clone() if out is None else out\n",
    "    out.flatten()[nv] = player\n",
    "    n_match = F.conv2d(out.view(1,1,3,3), FILTERS, stride=1, padding=1)\n",
    "    mask = n_match.abs() == 3\n",
    "    state = n_match[mask].sign().sum().clamp(-1,1)\n",
    "    return state.detach"
   ]
  },
  {
   "cell_type": "code",
   "execution_count": null,
   "id": "611aed20-7a0c-41eb-bc8a-9221725928a3",
   "metadata": {},
   "outputs": [],
   "source": []
  }
 ],
 "metadata": {
  "kernelspec": {
   "display_name": "Python 3 (ipykernel)",
   "language": "python",
   "name": "python3"
  },
  "language_info": {
   "codemirror_mode": {
    "name": "ipython",
    "version": 3
   },
   "file_extension": ".py",
   "mimetype": "text/x-python",
   "name": "python",
   "nbconvert_exporter": "python",
   "pygments_lexer": "ipython3",
   "version": "3.12.2"
  }
 },
 "nbformat": 4,
 "nbformat_minor": 5
}
