{
 "cells": [
  {
   "cell_type": "code",
   "execution_count": 1,
   "id": "f14bf5e2-ee52-45e5-b02a-87394e065c63",
   "metadata": {},
   "outputs": [
    {
     "name": "stdout",
     "output_type": "stream",
     "text": [
      "[[2, 15.811388300841896], [1, 20.615528128088304], [5, 21.213203435596427], [3, 25.495097567963924], [4, 26.92582403567252], [6, 27.730849247724095]]\n",
      "[[5, 11.180339887498949], [6, 13.92838827718412], [4, 15.811388300841896], [2, 18.027756377319946], [3, 20.615528128088304], [1, 25.495097567963924]]\n",
      "[[3, 0.0], [4, 5.0], [6, 7.0], [5, 14.142135623730951], [2, 22.360679774997898], [1, 33.54101966249684]]\n"
     ]
    }
   ],
   "source": [
    "import math\n",
    "\n",
    "X_train = [\n",
    "        [180, 60],\n",
    "        [170, 55],\n",
    "        [150, 45],\n",
    "        [150, 50],\n",
    "        [160, 55],\n",
    "        [150, 52],\n",
    "        ]\n",
    "\n",
    "X_test = [\n",
    "        [175, 40],\n",
    "        [155, 65],\n",
    "        [150, 45]\n",
    "        ]\n",
    "\n",
    "if __name__ == \"__main__\":\n",
    "    distances = [[None] * len(X_train) for _ in range(len(X_test))]\n",
    "    for i, test in enumerate(X_test):\n",
    "        for j, train in enumerate(X_train):\n",
    "            distance = math.sqrt((train[0] - test[0]) ** 2 + (train[1] - test[1]) ** 2)\n",
    "            distances[i][j] = [j+1, distance]\n",
    "    for dl in distances:\n",
    "        s_dl = sorted(dl, key=lambda x: x[1])\n",
    "        print(s_dl)"
   ]
  }
 ],
 "metadata": {
  "kernelspec": {
   "display_name": "Python 3 (ipykernel)",
   "language": "python",
   "name": "python3"
  },
  "language_info": {
   "codemirror_mode": {
    "name": "ipython",
    "version": 3
   },
   "file_extension": ".py",
   "mimetype": "text/x-python",
   "name": "python",
   "nbconvert_exporter": "python",
   "pygments_lexer": "ipython3",
   "version": "3.12.2"
  }
 },
 "nbformat": 4,
 "nbformat_minor": 5
}
