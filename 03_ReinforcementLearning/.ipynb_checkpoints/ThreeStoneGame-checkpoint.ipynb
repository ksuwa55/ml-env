{
 "cells": [
  {
   "cell_type": "code",
   "execution_count": 1,
   "id": "cc3ffecb-6215-4d49-8adb-07a6dc6d07a6",
   "metadata": {},
   "outputs": [],
   "source": [
    "import time\n",
    "import functools\n",
    "import numpy as np\n",
    "import pandas as pd\n",
    "import torch\n",
    "import torch.nn as nn\n",
    "import torch.nn.functional as F\n",
    "\n",
    "DEVICE = 'cpu'"
   ]
  },
  {
   "cell_type": "code",
   "execution_count": 7,
   "id": "f02c0f42-5832-4917-9636-6b550b184980",
   "metadata": {},
   "outputs": [],
   "source": [
    "def plot(board, handle=None, sleep_sec=0.8):\n",
    "    \"\"\" display board \"\"\"\n",
    "    board = board.detach().cpu()\n",
    "    s_booard = np.zeros(board.shape, dtype='U')\n",
    "    s_booard[board == +1] = '○'\n",
    "    s_booard[board == -1] = '×'\n",
    "    df = pd.DataFrame(s_booard.squeeze())\n",
    "    if handle is None:\n",
    "        handle = display(df, display_id=True)\n",
    "    else:\n",
    "        handle.update(df)\n",
    "    time.sleep(sleep_sec)\n",
    "    return handle\n"
   ]
  },
  {
   "cell_type": "code",
   "execution_count": 8,
   "id": "6cb2beee-0b83-4a7a-9070-168638e250f6",
   "metadata": {},
   "outputs": [],
   "source": [
    "# Filter which inspect three stone conteniusly. shape is (4,1,3,3)\n",
    "FILTERS = torch.tensor([\n",
    "    # holizontal\n",
    "    [[[0,0,0],\n",
    "      [1,1,1],\n",
    "      [0,0,0]]],\n",
    "    # vertival\n",
    "    [[[0,1,0],\n",
    "      [0,1,0],\n",
    "      [0,1,0]]],\n",
    "    # to top left\n",
    "    [[[1,0,0],\n",
    "      [0,1,0],\n",
    "      [0,0,1]]],\n",
    "    # to top right\n",
    "    [[[0,0,1],\n",
    "      [0,1,0],\n",
    "      [1,0,0]]],\n",
    "], dtype=torch.float32, device=DEVICE)\n"
   ]
  },
  {
   "cell_type": "code",
   "execution_count": 10,
   "id": "bde8a481-6c09-4f53-981f-1271699d3f2f",
   "metadata": {},
   "outputs": [],
   "source": [
    "def next_move(board, player, nv, out=None):\n",
    "    \"\"\" judge win/lose of next move nv の勝敗を判定\n",
    "    Args\n",
    "      board : current board. shape is (1,1,3,3)\n",
    "      player : +1 or -1\n",
    "      nv :  flat coodinate of next move　次手のフラット座標\n",
    "      out : board which store the next move. shape is (1,1,3,3)\n",
    "    Return\n",
    "      state : winner +1 or -1. if draw,  0\n",
    "    \"\"\"\n",
    "    assert board.numel() == 9\n",
    "    assert player in (-1, +1)\n",
    "    assert nv in range(board.numel())\n",
    "    if board.flatten()[nv] != 0:\n",
    "        return -player\n",
    "    out = board.detach().clone() if out is None else out\n",
    "    out.flatten()[nv] = player # inpout next move\n",
    "    n_match = F.conv2d(out.view(1,1,3,3), FILTERS, stride=1, padding=1) # count consecutive stones\n",
    "    mask = n_match.abs() == 3 # coodinate that stones are 3 consecutives\n",
    "    stake = n_match[mask].sign().sum().clamp(-1,1) # winner\n",
    "    return state.detach()"
   ]
  },
  {
   "cell_type": "code",
   "execution_count": null,
   "id": "13b19a1f-b26c-42f3-90f1-a69329e70ba8",
   "metadata": {},
   "outputs": [],
   "source": []
  }
 ],
 "metadata": {
  "kernelspec": {
   "display_name": "Python 3 (ipykernel)",
   "language": "python",
   "name": "python3"
  },
  "language_info": {
   "codemirror_mode": {
    "name": "ipython",
    "version": 3
   },
   "file_extension": ".py",
   "mimetype": "text/x-python",
   "name": "python",
   "nbconvert_exporter": "python",
   "pygments_lexer": "ipython3",
   "version": "3.12.2"
  }
 },
 "nbformat": 4,
 "nbformat_minor": 5
}
