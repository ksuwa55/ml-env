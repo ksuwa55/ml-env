{
 "cells": [
  {
   "cell_type": "code",
   "execution_count": 1,
   "id": "cc3ffecb-6215-4d49-8adb-07a6dc6d07a6",
   "metadata": {},
   "outputs": [],
   "source": [
    "import time\n",
    "import functools\n",
    "import numpy as np\n",
    "import pandas as pd\n",
    "import torch\n",
    "import torch.nn as nn\n",
    "import torch.nn.functional as F\n",
    "\n",
    "DEVICE = 'cpu'"
   ]
  },
  {
   "cell_type": "code",
   "execution_count": 7,
   "id": "f02c0f42-5832-4917-9636-6b550b184980",
   "metadata": {},
   "outputs": [],
   "source": [
    "def plot(board, handle=None, sleep_sec=0.8):\n",
    "    \"\"\" display board \"\"\"\n",
    "    board = board.detach().cpu()\n",
    "    s_booard = np.zeros(board.shape, dtype='U')\n",
    "    s_booard[board == +1] = '○'\n",
    "    s_booard[board == -1] = '×'\n",
    "    df = pd.DataFrame(s_booard.squeeze())\n",
    "    if handle is None:\n",
    "        handle = display(df, display_id=True)\n",
    "    else:\n",
    "        handle.update(df)\n",
    "    time.sleep(sleep_sec)\n",
    "    return handle\n"
   ]
  },
  {
   "cell_type": "code",
   "execution_count": 8,
   "id": "6cb2beee-0b83-4a7a-9070-168638e250f6",
   "metadata": {},
   "outputs": [],
   "source": [
    "# Filter which inspect three stone conteniusly. shape is (4,1,3,3)\n",
    "FILTERS = torch.tensor([\n",
    "    # holizontal\n",
    "    [[[0,0,0],\n",
    "      [1,1,1],\n",
    "      [0,0,0]]],\n",
    "    # vertival\n",
    "    [[[0,1,0],\n",
    "      [0,1,0],\n",
    "      [0,1,0]]],\n",
    "    # to top left\n",
    "    [[[1,0,0],\n",
    "      [0,1,0],\n",
    "      [0,0,1]]],\n",
    "    # to top right\n",
    "    [[[0,0,1],\n",
    "      [0,1,0],\n",
    "      [1,0,0]]],\n",
    "], dtype=torch.float32, device=DEVICE)\n"
   ]
  },
  {
   "cell_type": "code",
   "execution_count": 14,
   "id": "bde8a481-6c09-4f53-981f-1271699d3f2f",
   "metadata": {},
   "outputs": [],
   "source": [
    "def next_move(board, player, nv, out=None):\n",
    "    \"\"\" judge win/lose of next move nv の勝敗を判定\n",
    "    Args\n",
    "      board : current board. shape is (1,1,3,3)\n",
    "      player : +1 or -1\n",
    "      nv :  flat coodinate of next move　次手のフラット座標\n",
    "      out : board which store the next move. shape is (1,1,3,3)\n",
    "    Return\n",
    "      state : winner +1 or -1. if draw,  0\n",
    "    \"\"\"\n",
    "    assert board.numel() == 9\n",
    "    assert player in (-1, +1)\n",
    "    assert nv in range(board.numel())\n",
    "    if board.flatten()[nv] != 0:\n",
    "        return -player\n",
    "    out = board.detach().clone() if out is None else out\n",
    "    out.flatten()[nv] = player # inpout next move\n",
    "    n_match = F.conv2d(out.view(1,1,3,3), FILTERS, stride=1, padding=1) # count consecutive stones\n",
    "    mask = n_match.abs() == 3 # coodinate that stones are 3 consecutives\n",
    "    state = n_match[mask].sign().sum().clamp(-1,1) # winner\n",
    "    return state.detach()"
   ]
  },
  {
   "cell_type": "code",
   "execution_count": 15,
   "id": "13b19a1f-b26c-42f3-90f1-a69329e70ba8",
   "metadata": {},
   "outputs": [],
   "source": [
    "def auto_play(board, policies, display_handle=None):\n",
    "    policies = np.broadcast_to(policies,2) # policies of players\n",
    "    board[:] = 0 # reset board\n",
    "    if display_handle:\n",
    "        plot(board, display_handle) # display board\n",
    "    player = torch.tensor(1).float()\n",
    "    for turn in range(board.numel()):\n",
    "        bin = int(player == -1)\n",
    "        nv = policies[bin](board, player) # select next move\n",
    "        state = next_move(board, player, nv, out=board) # hit next move\n",
    "        if display_handle:\n",
    "            plot(board, display_handle)\n",
    "        if state != 0: # finish if w/l has been decided\n",
    "            break\n",
    "        player = -player # change players\n",
    "    return state"
   ]
  },
  {
   "cell_type": "code",
   "execution_count": 16,
   "id": "6404e7a5-5346-4c52-8030-8da2d135347b",
   "metadata": {},
   "outputs": [],
   "source": [
    "def policy_random(board, player):\n",
    "    blanks, = torch.where(board.flatten()== 0)\n",
    "    nv = torch.randint(len(blanks), (1,))\n",
    "    return blanks[nv]"
   ]
  },
  {
   "cell_type": "code",
   "execution_count": 21,
   "id": "cb50f653-0ab6-4e81-b4e1-fbeeb42ea684",
   "metadata": {},
   "outputs": [
    {
     "data": {
      "text/html": [
       "<div>\n",
       "<style scoped>\n",
       "    .dataframe tbody tr th:only-of-type {\n",
       "        vertical-align: middle;\n",
       "    }\n",
       "\n",
       "    .dataframe tbody tr th {\n",
       "        vertical-align: top;\n",
       "    }\n",
       "\n",
       "    .dataframe thead th {\n",
       "        text-align: right;\n",
       "    }\n",
       "</style>\n",
       "<table border=\"1\" class=\"dataframe\">\n",
       "  <thead>\n",
       "    <tr style=\"text-align: right;\">\n",
       "      <th></th>\n",
       "      <th>0</th>\n",
       "      <th>1</th>\n",
       "      <th>2</th>\n",
       "    </tr>\n",
       "  </thead>\n",
       "  <tbody>\n",
       "    <tr>\n",
       "      <th>0</th>\n",
       "      <td>×</td>\n",
       "      <td>×</td>\n",
       "      <td>○</td>\n",
       "    </tr>\n",
       "    <tr>\n",
       "      <th>1</th>\n",
       "      <td>×</td>\n",
       "      <td>○</td>\n",
       "      <td>○</td>\n",
       "    </tr>\n",
       "    <tr>\n",
       "      <th>2</th>\n",
       "      <td>○</td>\n",
       "      <td>○</td>\n",
       "      <td>×</td>\n",
       "    </tr>\n",
       "  </tbody>\n",
       "</table>\n",
       "</div>"
      ],
      "text/plain": [
       "   0  1  2\n",
       "0  ×  ×  ○\n",
       "1  ×  ○  ○\n",
       "2  ○  ○  ×"
      ]
     },
     "metadata": {},
     "output_type": "display_data"
    },
    {
     "data": {
      "text/plain": [
       "'○ wins'"
      ]
     },
     "execution_count": 21,
     "metadata": {},
     "output_type": "execute_result"
    }
   ],
   "source": [
    "def run():\n",
    "    handle = display(None, display_id=True)\n",
    "    board = torch.zeros((3,3), dtype=torch.float32, device=DEVICE)\n",
    "    state = auto_play(board, policy_random, display_handle=handle)\n",
    "    msg = {-1: '× wins', 0: 'draw', 1: '○ wins'}\n",
    "    return msg[int(state)]\n",
    "\n",
    "run()"
   ]
  },
  {
   "cell_type": "code",
   "execution_count": 26,
   "id": "1554c3e4-3c5d-4ef2-904e-86bb112fa95f",
   "metadata": {},
   "outputs": [],
   "source": [
    "def repeat_play(board, policy, N=100):\n",
    "    \"\"\" repeat games N times\n",
    "    Return\n",
    "    counts : [count wins of later, count of draws, count wins of former]\n",
    "    \"\"\"\n",
    "    states = [int(auto_play(board, policy)) for i in range(N)]\n",
    "    u, c = np.unique(states, return_counts=True)\n",
    "    assert set(u).issubset({-1, 0, 1})\n",
    "    counts = np.zeros(3, 'i')\n",
    "    counts [u+1] = c\n",
    "    return counts\n",
    "    "
   ]
  },
  {
   "cell_type": "code",
   "execution_count": 29,
   "id": "8dfc4aa9-d31c-409b-8057-943c2d81fc4e",
   "metadata": {},
   "outputs": [
    {
     "name": "stdout",
     "output_type": "stream",
     "text": [
      "[later draw former]\n",
      "[0.28 0.12 0.59] = [284 121 595] / 1000\n"
     ]
    }
   ],
   "source": [
    "def run(N=100):\n",
    "    board = torch.zeros((3,3), dtype=torch.float32, device=DEVICE)\n",
    "    counts = repeat_play(board, policy_random, N=N)\n",
    "    with np.printoptions(precision=2, floatmode='fixed'):\n",
    "        print('[later draw former]')\n",
    "        print(counts / counts.sum(), '=', counts, '/', counts.sum())\n",
    "\n",
    "run(N=1000)"
   ]
  }
 ],
 "metadata": {
  "kernelspec": {
   "display_name": "Python 3 (ipykernel)",
   "language": "python",
   "name": "python3"
  },
  "language_info": {
   "codemirror_mode": {
    "name": "ipython",
    "version": 3
   },
   "file_extension": ".py",
   "mimetype": "text/x-python",
   "name": "python",
   "nbconvert_exporter": "python",
   "pygments_lexer": "ipython3",
   "version": "3.12.2"
  }
 },
 "nbformat": 4,
 "nbformat_minor": 5
}
